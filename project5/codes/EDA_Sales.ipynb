{
 "cells": [
  {
   "cell_type": "code",
   "execution_count": 60,
   "id": "c1ccb0be-8494-429c-ac17-3b6a7035f457",
   "metadata": {},
   "outputs": [],
   "source": [
    "import pandas as pd\n",
    "import numpy as np\n",
    "import matplotlib.pyplot as plt\n",
    "import os\n",
    "from datetime import datetime"
   ]
  },
  {
   "cell_type": "code",
   "execution_count": 62,
   "id": "0ec602fa-a9e2-4d63-b734-08e7b974cc81",
   "metadata": {},
   "outputs": [],
   "source": [
    "df = pd.read_csv(\"Superstore.csv\", encoding=\"ISO-8859-1\")\n",
    "df.columns = df.columns.str.strip()"
   ]
  },
  {
   "cell_type": "code",
   "execution_count": 23,
   "id": "967303f1-5051-4911-b656-3b6af08187b5",
   "metadata": {},
   "outputs": [],
   "source": [
    "for col in [\"Order Date\", \"Ship Date\"]:\n",
    "    df[col] = pd.to_datetime(df[col], errors=\"coerce\")"
   ]
  },
  {
   "cell_type": "code",
   "execution_count": 25,
   "id": "5bc6b6ea-7e99-45d5-820c-d3c767c31a28",
   "metadata": {},
   "outputs": [],
   "source": [
    "df[\"Order Year\"] = df[\"Order Date\"].dt.year\n",
    "df[\"Order Month\"] = df[\"Order Date\"].dt.to_period(\"M\").astype(str)\n",
    "df[\"Order DayOfWeek\"] = df[\"Order Date\"].dt.day_name()\n",
    "df[\"Ship Delay (days)\"] = (df[\"Ship Date\"] - df[\"Order Date\"]).dt.days\n",
    "df[\"Profit Margin\"] = np.where(df[\"Sales\"] != 0, df[\"Profit\"] / df[\"Sales\"], np.nan)"
   ]
  },
  {
   "cell_type": "code",
   "execution_count": 27,
   "id": "2800d275-c5c4-4c1d-8485-b5ee8084deb9",
   "metadata": {},
   "outputs": [
    {
     "name": "stdout",
     "output_type": "stream",
     "text": [
      "Verificação de duplicatas:\n",
      "Duplicatas por Row ID: 0\n",
      "Duplicatas por Order ID + Product ID: 8\n"
     ]
    }
   ],
   "source": [
    "data_quality = pd.DataFrame({\n",
    "    \"non_null\": df.notnull().sum(),\n",
    "    \"%_non_null\": (df.notnull().sum()/len(df))*100,\n",
    "    \"dtype\": df.dtypes.astype(str)\n",
    "}).reset_index().rename(columns={\"index\":\"column\"})\n",
    "\n",
    "print(\"Verificação de duplicatas:\")\n",
    "print(\"Duplicatas por Row ID:\", df[\"Row ID\"].duplicated().sum())\n",
    "print(\"Duplicatas por Order ID + Product ID:\", df.duplicated(subset=[\"Order ID\", \"Product ID\"]).sum())\n"
   ]
  },
  {
   "cell_type": "code",
   "execution_count": 29,
   "id": "3f53f32d-a329-42cf-9a29-65dc9880f463",
   "metadata": {},
   "outputs": [],
   "source": [
    "def iqr_outlier_share(series):\n",
    "    q1, q3 = series.quantile([0.25, 0.75])\n",
    "    iqr = q3 - q1\n",
    "    lower = q1 - 1.5*iqr\n",
    "    upper = q3 + 1.5*iqr\n",
    "    mask = (series < lower) | (series > upper)\n",
    "    return {\n",
    "        \"q1\": q1, \"q3\": q3, \"iqr\": iqr,\n",
    "        \"lower\": lower, \"upper\": upper,\n",
    "        \"outliers_count\": int(mask.sum()),\n",
    "        \"outliers_%\": 100*mask.mean()\n",
    "    }\n",
    "\n",
    "outlier_sales = iqr_outlier_share(df[\"Sales\"])\n",
    "outlier_profit = iqr_outlier_share(df[\"Profit\"])\n",
    "outlier_table = pd.DataFrame([\n",
    "    {\"metric\":\"Sales\", **outlier_sales},\n",
    "    {\"metric\":\"Profit\", **outlier_profit},\n",
    "])\n"
   ]
  },
  {
   "cell_type": "code",
   "execution_count": 31,
   "id": "108004b0-095e-42b6-9f56-394fb37bfde7",
   "metadata": {},
   "outputs": [],
   "source": [
    "kpis = {\n",
    "    \"Orders\": df[\"Order ID\"].nunique(),\n",
    "    \"Customers\": df[\"Customer ID\"].nunique(),\n",
    "    \"Products\": df[\"Product ID\"].nunique(),\n",
    "    \"Total Sales\": df[\"Sales\"].sum(),\n",
    "    \"Total Profit\": df[\"Profit\"].sum(),\n",
    "    \"Avg Order Value\": df.groupby(\"Order ID\")[\"Sales\"].sum().mean(),\n",
    "    \"Avg Profit per Order\": df.groupby(\"Order ID\")[\"Profit\"].sum().mean(),\n",
    "    \"Negative Profit Rows (%)\": 100*(df[\"Profit\"] < 0).mean(),\n",
    "    \"Avg Ship Delay (days)\": df[\"Ship Delay (days)\"].mean()\n",
    "}\n",
    "kpis_df = pd.DataFrame(list(kpis.items()), columns=[\"KPI\",\"Value\"])\n"
   ]
  },
  {
   "cell_type": "code",
   "execution_count": 33,
   "id": "422e191a-04fb-409f-922c-50eeca679682",
   "metadata": {},
   "outputs": [
    {
     "name": "stderr",
     "output_type": "stream",
     "text": [
      "C:\\Users\\Pichau\\AppData\\Local\\Temp\\ipykernel_2520\\990326022.py:35: FutureWarning: 'M' is deprecated and will be removed in a future version, please use 'ME' instead.\n",
      "  monthly = df.set_index(\"Order Date\").groupby(pd.Grouper(freq=\"M\")).agg(\n"
     ]
    }
   ],
   "source": [
    "cat = df.groupby(\"Category\").agg(Sales=(\"Sales\",\"sum\"),\n",
    "                                 Profit=(\"Profit\",\"sum\"),\n",
    "                                 Orders=(\"Order ID\",\"nunique\")).reset_index()\n",
    "\n",
    "subcat = df.groupby([\"Category\",\"Sub-Category\"]).agg(\n",
    "    Sales=(\"Sales\",\"sum\"), Profit=(\"Profit\",\"sum\")\n",
    ").reset_index().sort_values(\"Sales\", ascending=False)\n",
    "\n",
    "region = df.groupby(\"Region\").agg(Sales=(\"Sales\",\"sum\"),\n",
    "                                  Profit=(\"Profit\",\"sum\")).reset_index()\n",
    "\n",
    "state_top = df.groupby(\"State\").agg(Sales=(\"Sales\",\"sum\"),\n",
    "                                    Profit=(\"Profit\",\"sum\")).reset_index().sort_values(\"Sales\", ascending=False).head(15)\n",
    "\n",
    "segment = df.groupby(\"Segment\").agg(Sales=(\"Sales\",\"sum\"),\n",
    "                                    Profit=(\"Profit\",\"sum\")).reset_index()\n",
    "\n",
    "shipmode = df.groupby(\"Ship Mode\").agg(Sales=(\"Sales\",\"sum\"),\n",
    "                                       Profit=(\"Profit\",\"sum\"),\n",
    "                                       Delay=(\"Ship Delay (days)\",\"mean\")).reset_index()\n",
    "\n",
    "# Produtos mais e menos lucrativos\n",
    "product_profit = df.groupby([\"Product ID\",\"Product Name\"]).agg(Sales=(\"Sales\",\"sum\"), Profit=(\"Profit\",\"sum\")).reset_index()\n",
    "top_profitable = product_profit.sort_values(\"Profit\", ascending=False).head(15)\n",
    "worst_profitable = product_profit.sort_values(\"Profit\").head(15)\n",
    "\n",
    "# Subcategorias com maior taxa de prejuízo\n",
    "neg_profit_rate = df.assign(neg=(df[\"Profit\"]<0)).groupby([\"Category\",\"Sub-Category\"]).agg(\n",
    "    Sales=(\"Sales\",\"sum\"),\n",
    "    Profit=(\"Profit\",\"sum\"),\n",
    "    NegRate=(\"neg\",\"mean\")\n",
    ").reset_index().sort_values(\"NegRate\", ascending=False)\n",
    "\n",
    "# Série temporal mensal\n",
    "monthly = df.set_index(\"Order Date\").groupby(pd.Grouper(freq=\"M\")).agg(\n",
    "    Sales=(\"Sales\",\"sum\"), Profit=(\"Profit\",\"sum\")\n",
    ").reset_index()\n",
    "\n",
    "# Correlação\n",
    "corr = df.select_dtypes(include=[np.number])[[\"Sales\",\"Quantity\",\"Discount\",\"Profit\",\"Ship Delay (days)\",\"Profit Margin\"]].corr()"
   ]
  },
  {
   "cell_type": "code",
   "execution_count": 44,
   "id": "c2a47b22-665c-4993-ada4-89e8dcdae251",
   "metadata": {},
   "outputs": [
    {
     "name": "stdout",
     "output_type": "stream",
     "text": [
      "✅ EDA concluído com sucesso!\n"
     ]
    }
   ],
   "source": [
    "def save_plot(fig, name):\n",
    "    path = os.path.join(\"plots\", name)\n",
    "    os.makedirs(\"plots\", exist_ok=True)\n",
    "    fig.savefig(path, bbox_inches=\"tight\")\n",
    "    plt.close(fig)\n",
    "\n",
    "# Distribuições\n",
    "fig = plt.figure(figsize=(8,5))\n",
    "plt.hist(df[\"Sales\"], bins=50)\n",
    "plt.title(\"Sales Distribution\")\n",
    "plt.xlabel(\"Sales\"); plt.ylabel(\"Frequência\")\n",
    "save_plot(fig, \"sales_distribution.png\")\n",
    "\n",
    "fig = plt.figure(figsize=(8,5))\n",
    "plt.hist(df[\"Profit\"], bins=50)\n",
    "plt.title(\"Profit Distribution\")\n",
    "plt.xlabel(\"Profit\"); plt.ylabel(\"Frequência\")\n",
    "save_plot(fig, \"profit_distribution.png\")\n",
    "\n",
    "# Vendas e Lucro por Categoria\n",
    "fig = plt.figure(figsize=(8,5))\n",
    "plt.bar(cat[\"Category\"], cat[\"Sales\"])\n",
    "plt.title(\"Sales by Category\"); plt.ylabel(\"Sales\")\n",
    "save_plot(fig, \"sales_by_category.png\")\n",
    "\n",
    "fig = plt.figure(figsize=(8,5))\n",
    "plt.bar(cat[\"Category\"], cat[\"Profit\"])\n",
    "plt.title(\"Profit by Category\"); plt.ylabel(\"Profit\")\n",
    "save_plot(fig, \"profit_by_category.png\")\n",
    "\n",
    "# Série Temporal\n",
    "fig = plt.figure(figsize=(10,5))\n",
    "plt.plot(monthly[\"Order Date\"], monthly[\"Sales\"])\n",
    "plt.title(\"Monthly Sales\"); plt.ylabel(\"Sales\")\n",
    "save_plot(fig, \"monthly_sales.png\")\n",
    "\n",
    "fig = plt.figure(figsize=(10,5))\n",
    "plt.plot(monthly[\"Order Date\"], monthly[\"Profit\"])\n",
    "plt.title(\"Monthly Profit\"); plt.ylabel(\"Profit\")\n",
    "save_plot(fig, \"monthly_profit.png\")\n",
    "\n",
    "# Correlação\n",
    "fig = plt.figure(figsize=(6,5))\n",
    "plt.imshow(corr, aspect='auto')\n",
    "plt.xticks(range(corr.shape[1]), corr.columns, rotation=45, ha='right')\n",
    "plt.yticks(range(corr.shape[0]), corr.index)\n",
    "plt.title(\"Correlation Matrix\")\n",
    "for i in range(corr.shape[0]):\n",
    "    for j in range(corr.shape[1]):\n",
    "        plt.text(j, i, f\"{corr.iloc[i,j]:.2f}\", ha=\"center\", va=\"center\")\n",
    "save_plot(fig, \"correlation_matrix.png\")"
   ]
  },
  {
   "cell_type": "code",
   "execution_count": 46,
   "id": "261c66d9-2e3d-4a36-ba54-09ec2cc9fd92",
   "metadata": {},
   "outputs": [],
   "source": [
    "out_dir = \"outputs\"\n",
    "os.makedirs(out_dir, exist_ok=True)\n",
    "\n",
    "cat.to_csv(os.path.join(out_dir, \"category_summary.csv\"), index=False)\n",
    "subcat.to_csv(os.path.join(out_dir, \"subcategory_summary.csv\"), index=False)\n",
    "region.to_csv(os.path.join(out_dir, \"region_summary.csv\"), index=False)\n",
    "monthly.to_csv(os.path.join(out_dir, \"monthly_summary.csv\"), index=False)\n",
    "kpis_df.to_csv(os.path.join(out_dir, \"kpis.csv\"), index=False)\n",
    "outlier_table.to_csv(os.path.join(out_dir, \"outliers.csv\"), index=False)\n",
    "data_quality.to_csv(os.path.join(out_dir, \"data_quality.csv\"), index=False)"
   ]
  },
  {
   "cell_type": "code",
   "execution_count": null,
   "id": "28934580-bb19-4d67-95c1-76845369fe7e",
   "metadata": {},
   "outputs": [],
   "source": []
  }
 ],
 "metadata": {
  "kernelspec": {
   "display_name": "Python [conda env:anaconda3] *",
   "language": "python",
   "name": "conda-env-anaconda3-py"
  },
  "language_info": {
   "codemirror_mode": {
    "name": "ipython",
    "version": 3
   },
   "file_extension": ".py",
   "mimetype": "text/x-python",
   "name": "python",
   "nbconvert_exporter": "python",
   "pygments_lexer": "ipython3",
   "version": "3.11.5"
  }
 },
 "nbformat": 4,
 "nbformat_minor": 5
}
